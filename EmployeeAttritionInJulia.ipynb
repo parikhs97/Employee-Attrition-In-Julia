{
  "cells": [
    {
      "cell_type": "markdown",
      "source": [
        "# Employee Attrition Using Random Forest Algorithm"
      ],
      "metadata": {
        "nteract": {
          "transient": {
            "deleting": false
          }
        }
      }
    },
    {
      "cell_type": "markdown",
      "source": [
        "### Install/Load Dependencies"
      ],
      "metadata": {
        "nteract": {
          "transient": {
            "deleting": false
          }
        }
      }
    },
    {
      "cell_type": "code",
      "source": [
        "# Install/Load Dependencies\n",
        "# using Pkg\n",
        "# Pkg.add([\"XLSX\", \"DataFrames\", DecisionTree\"])"
      ],
      "outputs": [],
      "execution_count": 18,
      "metadata": {
        "collapsed": true,
        "outputExpanded": false,
        "jupyter": {
          "source_hidden": false,
          "outputs_hidden": false
        },
        "nteract": {
          "transient": {
            "deleting": false
          }
        },
        "execution": {
          "iopub.status.busy": "2020-05-21T20:01:31.411Z",
          "iopub.execute_input": "2020-05-21T20:01:31.416Z",
          "iopub.status.idle": "2020-05-21T20:01:31.656Z"
        }
      }
    },
    {
      "cell_type": "markdown",
      "source": [
        "The dataset for this post is in *XLSX* format so we’ll use the *XLSX package* to parse it\n",
        "\n",
        "As usual, I’ll be using *DataFrames* to view the data that we’ll be working with in a nice format (this step isn’t imperative, I just like to inspect my data in this format before going further)\n",
        "\n",
        "*DecisionTree* is the awesome package that we’ll use to build our random forest model"
      ],
      "metadata": {
        "nteract": {
          "transient": {
            "deleting": false
          }
        }
      }
    },
    {
      "cell_type": "code",
      "source": [
        "using DataFrames, DecisionTree, XLSX"
      ],
      "outputs": [],
      "execution_count": 20,
      "metadata": {
        "collapsed": true,
        "outputExpanded": false,
        "jupyter": {
          "source_hidden": false,
          "outputs_hidden": false
        },
        "nteract": {
          "transient": {
            "deleting": false
          }
        },
        "execution": {
          "iopub.status.busy": "2020-05-21T20:03:35.107Z",
          "iopub.execute_input": "2020-05-21T20:03:35.118Z",
          "iopub.status.idle": "2020-05-21T20:03:35.136Z"
        }
      }
    },
    {
      "cell_type": "markdown",
      "source": [
        "### Get Data\n",
        "\n",
        "The dataset consists of Employee Data along with the Attrition.(whether the employee left the company or not)\n",
        "\n",
        "We have two datasets : 1) Train Data 2) Test Data\n",
        "\n",
        "First, reading the train data and storing it as a DataFrame."
      ],
      "metadata": {
        "nteract": {
          "transient": {
            "deleting": false
          }
        }
      }
    },
    {
      "cell_type": "code",
      "source": [
        "train = DataFrame(XLSX.readtable(\"train.xlsx\",\"Sheet1\")...)\n",
        "select!(train,r\"Attrition\",:)"
      ],
      "outputs": [
        {
          "output_type": "execute_result",
          "execution_count": 6,
          "data": {
            "text/plain": [
              "847×29 DataFrame. Omitted printing of 24 columns\n",
              "│ Row │ Attrition │ Age │ DailyRate │ DistanceFromHome │ Education │\n",
              "│     │ \u001b[90mAny\u001b[39m       │ \u001b[90mAny\u001b[39m │ \u001b[90mAny\u001b[39m       │ \u001b[90mAny\u001b[39m              │ \u001b[90mAny\u001b[39m       │\n",
              "├─────┼───────────┼─────┼───────────┼──────────────────┼───────────┤\n",
              "│ 1   │ 1         │ 41  │ 1102      │ 1                │ 2         │\n",
              "│ 2   │ 0         │ 49  │ 279       │ 8                │ 1         │\n",
              "│ 3   │ 1         │ 37  │ 1373      │ 2                │ 2         │\n",
              "│ 4   │ 0         │ 33  │ 1392      │ 3                │ 4         │\n",
              "│ 5   │ 0         │ 27  │ 591       │ 2                │ 1         │\n",
              "│ 6   │ 0         │ 32  │ 1005      │ 2                │ 2         │\n",
              "│ 7   │ 0         │ 59  │ 1324      │ 3                │ 3         │\n",
              "│ 8   │ 0         │ 30  │ 1358      │ 24               │ 1         │\n",
              "│ 9   │ 0         │ 38  │ 216       │ 23               │ 3         │\n",
              "│ 10  │ 0         │ 36  │ 1299      │ 27               │ 3         │\n",
              "⋮\n",
              "│ 837 │ 1         │ 29  │ 408       │ 23               │ 1         │\n",
              "│ 838 │ 0         │ 40  │ 593       │ 9                │ 4         │\n",
              "│ 839 │ 1         │ 42  │ 481       │ 12               │ 3         │\n",
              "│ 840 │ 0         │ 42  │ 647       │ 4                │ 4         │\n",
              "│ 841 │ 0         │ 35  │ 982       │ 1                │ 4         │\n",
              "│ 842 │ 0         │ 24  │ 477       │ 24               │ 3         │\n",
              "│ 843 │ 1         │ 28  │ 1485      │ 12               │ 1         │\n",
              "│ 844 │ 0         │ 26  │ 1384      │ 3                │ 4         │\n",
              "│ 845 │ 0         │ 30  │ 852       │ 10               │ 3         │\n",
              "│ 846 │ 0         │ 40  │ 902       │ 26               │ 2         │\n",
              "│ 847 │ 0         │ 35  │ 819       │ 2                │ 3         │"
            ],
            "text/html": [
              "<table class=\"data-frame\"><thead><tr><th></th><th>Attrition</th><th>Age</th><th>DailyRate</th><th>DistanceFromHome</th><th>Education</th><th>EmployeeCount</th><th>EmployeeNumber</th></tr><tr><th></th><th>Any</th><th>Any</th><th>Any</th><th>Any</th><th>Any</th><th>Any</th><th>Any</th></tr></thead><tbody><p>847 rows × 29 columns (omitted printing of 22 columns)</p><tr><th>1</th><td>1</td><td>41</td><td>1102</td><td>1</td><td>2</td><td>1</td><td>1</td></tr><tr><th>2</th><td>0</td><td>49</td><td>279</td><td>8</td><td>1</td><td>1</td><td>2</td></tr><tr><th>3</th><td>1</td><td>37</td><td>1373</td><td>2</td><td>2</td><td>1</td><td>4</td></tr><tr><th>4</th><td>0</td><td>33</td><td>1392</td><td>3</td><td>4</td><td>1</td><td>5</td></tr><tr><th>5</th><td>0</td><td>27</td><td>591</td><td>2</td><td>1</td><td>1</td><td>7</td></tr><tr><th>6</th><td>0</td><td>32</td><td>1005</td><td>2</td><td>2</td><td>1</td><td>8</td></tr><tr><th>7</th><td>0</td><td>59</td><td>1324</td><td>3</td><td>3</td><td>1</td><td>10</td></tr><tr><th>8</th><td>0</td><td>30</td><td>1358</td><td>24</td><td>1</td><td>1</td><td>11</td></tr><tr><th>9</th><td>0</td><td>38</td><td>216</td><td>23</td><td>3</td><td>1</td><td>12</td></tr><tr><th>10</th><td>0</td><td>36</td><td>1299</td><td>27</td><td>3</td><td>1</td><td>13</td></tr><tr><th>11</th><td>0</td><td>35</td><td>809</td><td>16</td><td>3</td><td>1</td><td>14</td></tr><tr><th>12</th><td>0</td><td>29</td><td>153</td><td>15</td><td>2</td><td>1</td><td>15</td></tr><tr><th>13</th><td>0</td><td>31</td><td>670</td><td>26</td><td>1</td><td>1</td><td>16</td></tr><tr><th>14</th><td>0</td><td>34</td><td>1346</td><td>19</td><td>2</td><td>1</td><td>18</td></tr><tr><th>15</th><td>1</td><td>28</td><td>103</td><td>24</td><td>3</td><td>1</td><td>19</td></tr><tr><th>16</th><td>0</td><td>29</td><td>1389</td><td>21</td><td>4</td><td>1</td><td>20</td></tr><tr><th>17</th><td>0</td><td>32</td><td>334</td><td>5</td><td>2</td><td>1</td><td>21</td></tr><tr><th>18</th><td>0</td><td>22</td><td>1123</td><td>16</td><td>2</td><td>1</td><td>22</td></tr><tr><th>19</th><td>0</td><td>53</td><td>1219</td><td>2</td><td>4</td><td>1</td><td>23</td></tr><tr><th>20</th><td>0</td><td>38</td><td>371</td><td>2</td><td>3</td><td>1</td><td>24</td></tr><tr><th>21</th><td>0</td><td>24</td><td>673</td><td>11</td><td>2</td><td>1</td><td>26</td></tr><tr><th>22</th><td>1</td><td>36</td><td>1218</td><td>9</td><td>4</td><td>1</td><td>27</td></tr><tr><th>23</th><td>0</td><td>34</td><td>419</td><td>7</td><td>4</td><td>1</td><td>28</td></tr><tr><th>24</th><td>0</td><td>21</td><td>391</td><td>15</td><td>2</td><td>1</td><td>30</td></tr><tr><th>25</th><td>1</td><td>34</td><td>699</td><td>6</td><td>1</td><td>1</td><td>31</td></tr><tr><th>26</th><td>0</td><td>53</td><td>1282</td><td>5</td><td>3</td><td>1</td><td>32</td></tr><tr><th>27</th><td>1</td><td>32</td><td>1125</td><td>16</td><td>1</td><td>1</td><td>33</td></tr><tr><th>28</th><td>0</td><td>42</td><td>691</td><td>8</td><td>4</td><td>1</td><td>35</td></tr><tr><th>29</th><td>0</td><td>44</td><td>477</td><td>7</td><td>4</td><td>1</td><td>36</td></tr><tr><th>30</th><td>0</td><td>46</td><td>705</td><td>2</td><td>4</td><td>1</td><td>38</td></tr><tr><th>&vellip;</th><td>&vellip;</td><td>&vellip;</td><td>&vellip;</td><td>&vellip;</td><td>&vellip;</td><td>&vellip;</td><td>&vellip;</td></tr></tbody></table>"
            ],
            "text/latex": [
              "\\begin{tabular}{r|cccccccc}\n",
              "\t& Attrition & Age & DailyRate & DistanceFromHome & Education & EmployeeCount & EmployeeNumber & \\\\\n",
              "\t\\hline\n",
              "\t& Any & Any & Any & Any & Any & Any & Any & \\\\\n",
              "\t\\hline\n",
              "\t1 & 1 & 41 & 1102 & 1 & 2 & 1 & 1 & $\\dots$ \\\\\n",
              "\t2 & 0 & 49 & 279 & 8 & 1 & 1 & 2 & $\\dots$ \\\\\n",
              "\t3 & 1 & 37 & 1373 & 2 & 2 & 1 & 4 & $\\dots$ \\\\\n",
              "\t4 & 0 & 33 & 1392 & 3 & 4 & 1 & 5 & $\\dots$ \\\\\n",
              "\t5 & 0 & 27 & 591 & 2 & 1 & 1 & 7 & $\\dots$ \\\\\n",
              "\t6 & 0 & 32 & 1005 & 2 & 2 & 1 & 8 & $\\dots$ \\\\\n",
              "\t7 & 0 & 59 & 1324 & 3 & 3 & 1 & 10 & $\\dots$ \\\\\n",
              "\t8 & 0 & 30 & 1358 & 24 & 1 & 1 & 11 & $\\dots$ \\\\\n",
              "\t9 & 0 & 38 & 216 & 23 & 3 & 1 & 12 & $\\dots$ \\\\\n",
              "\t10 & 0 & 36 & 1299 & 27 & 3 & 1 & 13 & $\\dots$ \\\\\n",
              "\t11 & 0 & 35 & 809 & 16 & 3 & 1 & 14 & $\\dots$ \\\\\n",
              "\t12 & 0 & 29 & 153 & 15 & 2 & 1 & 15 & $\\dots$ \\\\\n",
              "\t13 & 0 & 31 & 670 & 26 & 1 & 1 & 16 & $\\dots$ \\\\\n",
              "\t14 & 0 & 34 & 1346 & 19 & 2 & 1 & 18 & $\\dots$ \\\\\n",
              "\t15 & 1 & 28 & 103 & 24 & 3 & 1 & 19 & $\\dots$ \\\\\n",
              "\t16 & 0 & 29 & 1389 & 21 & 4 & 1 & 20 & $\\dots$ \\\\\n",
              "\t17 & 0 & 32 & 334 & 5 & 2 & 1 & 21 & $\\dots$ \\\\\n",
              "\t18 & 0 & 22 & 1123 & 16 & 2 & 1 & 22 & $\\dots$ \\\\\n",
              "\t19 & 0 & 53 & 1219 & 2 & 4 & 1 & 23 & $\\dots$ \\\\\n",
              "\t20 & 0 & 38 & 371 & 2 & 3 & 1 & 24 & $\\dots$ \\\\\n",
              "\t21 & 0 & 24 & 673 & 11 & 2 & 1 & 26 & $\\dots$ \\\\\n",
              "\t22 & 1 & 36 & 1218 & 9 & 4 & 1 & 27 & $\\dots$ \\\\\n",
              "\t23 & 0 & 34 & 419 & 7 & 4 & 1 & 28 & $\\dots$ \\\\\n",
              "\t24 & 0 & 21 & 391 & 15 & 2 & 1 & 30 & $\\dots$ \\\\\n",
              "\t25 & 1 & 34 & 699 & 6 & 1 & 1 & 31 & $\\dots$ \\\\\n",
              "\t26 & 0 & 53 & 1282 & 5 & 3 & 1 & 32 & $\\dots$ \\\\\n",
              "\t27 & 1 & 32 & 1125 & 16 & 1 & 1 & 33 & $\\dots$ \\\\\n",
              "\t28 & 0 & 42 & 691 & 8 & 4 & 1 & 35 & $\\dots$ \\\\\n",
              "\t29 & 0 & 44 & 477 & 7 & 4 & 1 & 36 & $\\dots$ \\\\\n",
              "\t30 & 0 & 46 & 705 & 2 & 4 & 1 & 38 & $\\dots$ \\\\\n",
              "\t$\\dots$ & $\\dots$ & $\\dots$ & $\\dots$ & $\\dots$ & $\\dots$ & $\\dots$ & $\\dots$ &  \\\\\n",
              "\\end{tabular}\n"
            ]
          },
          "metadata": {}
        }
      ],
      "execution_count": 6,
      "metadata": {
        "collapsed": true,
        "outputExpanded": false,
        "jupyter": {
          "source_hidden": false,
          "outputs_hidden": false
        },
        "nteract": {
          "transient": {
            "deleting": false
          }
        },
        "execution": {
          "iopub.status.busy": "2020-05-21T19:26:53.402Z",
          "iopub.execute_input": "2020-05-21T19:26:53.408Z",
          "iopub.status.idle": "2020-05-21T19:26:55.108Z"
        }
      }
    },
    {
      "cell_type": "markdown",
      "source": [
        "Before we can actually build the model, we need to separate our data into one Array containing the features, and another containing the labels. This is pretty straightforward in Julia with the convert function. I chose to drop rows that have missing values, but you can choose to leave them in if you’d like."
      ],
      "metadata": {
        "nteract": {
          "transient": {
            "deleting": false
          }
        }
      }
    },
    {
      "cell_type": "markdown",
      "source": [
        "### Feature Data"
      ],
      "metadata": {
        "nteract": {
          "transient": {
            "deleting": false
          }
        }
      }
    },
    {
      "cell_type": "code",
      "source": [
        "features = convert(Array, dropmissing(train)[2:29])"
      ],
      "outputs": [
        {
          "output_type": "stream",
          "name": "stderr",
          "text": [
            "┌ Warning: `getindex(df::DataFrame, col_inds::Union{AbstractVector, Regex, Not})` is deprecated, use `df[:, col_inds]` instead.\n",
            "│   caller = top-level scope at In[21]:1\n",
            "└ @ Core In[21]:1\n"
          ]
        },
        {
          "output_type": "execute_result",
          "execution_count": 21,
          "data": {
            "text/plain": [
              "847×28 Array{Any,2}:\n",
              " 41  1102   1  2  1     1  2  1   94  3  …  1  80  0   8  0  1   6  4   0   5\n",
              " 49   279   8  1  1     2  3  0   61  2     4  80  1  10  3  3  10  7   1   7\n",
              " 37  1373   2  2  1     4  4  0   92  2     2  80  0   7  3  3   0  0   0   0\n",
              " 33  1392   3  4  1     5  4  1   56  3     3  80  0   8  3  3   8  7   3   0\n",
              " 27   591   2  1  1     7  1  0   40  3     4  80  1   6  3  3   2  2   2   2\n",
              " 32  1005   2  2  1     8  4  0   79  3  …  3  80  0   8  2  2   7  7   3   6\n",
              " 59  1324   3  3  1    10  3  1   81  4     1  80  3  12  3  2   1  0   0   0\n",
              " 30  1358  24  1  1    11  4  0   67  3     2  80  1   1  2  3   1  0   0   0\n",
              " 38   216  23  3  1    12  4  0   44  2     2  80  0  10  2  3   9  7   1   8\n",
              " 36  1299  27  3  1    13  3  0   94  3     2  80  2  17  3  2   7  7   7   7\n",
              " 35   809  16  3  1    14  1  0   84  4  …  3  80  1   6  5  3   5  4   0   3\n",
              " 29   153  15  2  1    15  4  1   49  2     4  80  0  10  3  3   9  5   0   8\n",
              " 31   670  26  1  1    16  1  0   31  3     4  80  1   5  1  2   5  2   4   3\n",
              "  ⋮                     ⋮                ⋱         ⋮                ⋮      \n",
              " 35   528   8  4  1  1164  3  0  100  3  …  2  80  0   6  2  1   5  4   1   4\n",
              " 29   408  23  1  1  1165  4  1   45  2     1  80  1  11  3  1  11  8   3  10\n",
              " 40   593   9  4  1  1166  2  1   88  3     3  80  0  20  3  2  18  7   2  13\n",
              " 42   481  12  3  1  1167  3  0   44  3     2  80  0  22  2  2  21  9  13  14\n",
              " 42   647   4  4  1  1171  2  0   45  3     4  80  0   9  3  4   6  4   1   5\n",
              " 35   982   1  4  1  1172  4  0   58  2  …  2  80  1  10  2  3   8  0   1   7\n",
              " 24   477  24  3  1  1173  4  0   49  3     4  80  0   6  2  3   4  3   1   2\n",
              " 28  1485  12  1  1  1175  3  1   79  3     4  80  0   1  4  2   1  1   0   0\n",
              " 26  1384   3  4  1  1177  1  0   82  4     2  80  1   8  2  3   8  7   0   7\n",
              " 30   852  10  3  1  1179  3  0   72  2     1  80  1  10  3  3  10  3   1   4\n",
              " 40   902  26  2  1  1180  3  1   92  2  …  4  80  1  16  3  1   1  1   0   0\n",
              " 35   819   2  3  1  1182  3  0   44  2     2  80  1  15  2  4   7  7   6   4"
            ]
          },
          "metadata": {}
        }
      ],
      "execution_count": 21,
      "metadata": {
        "collapsed": true,
        "outputExpanded": false,
        "jupyter": {
          "source_hidden": false,
          "outputs_hidden": false
        },
        "nteract": {
          "transient": {
            "deleting": false
          }
        },
        "execution": {
          "iopub.status.busy": "2020-05-21T20:07:52.041Z",
          "iopub.execute_input": "2020-05-21T20:07:52.049Z",
          "iopub.status.idle": "2020-05-21T20:07:52.084Z"
        }
      }
    },
    {
      "cell_type": "markdown",
      "source": [
        "### Label Data"
      ],
      "metadata": {
        "nteract": {
          "transient": {
            "deleting": false
          }
        }
      }
    },
    {
      "cell_type": "code",
      "source": [
        "labels = convert(Array, dropmissing(train)[1])"
      ],
      "outputs": [
        {
          "output_type": "stream",
          "name": "stderr",
          "text": [
            "┌ Warning: `getindex(df::DataFrame, col_ind::ColumnIndex)` is deprecated, use `df[!, col_ind]` instead.\n",
            "│   caller = top-level scope at In[8]:1\n",
            "└ @ Core In[8]:1\n"
          ]
        },
        {
          "output_type": "execute_result",
          "execution_count": 8,
          "data": {
            "text/plain": [
              "847-element Array{Any,1}:\n",
              " 1\n",
              " 0\n",
              " 1\n",
              " 0\n",
              " 0\n",
              " 0\n",
              " 0\n",
              " 0\n",
              " 0\n",
              " 0\n",
              " 0\n",
              " 0\n",
              " 0\n",
              " ⋮\n",
              " 0\n",
              " 1\n",
              " 0\n",
              " 1\n",
              " 0\n",
              " 0\n",
              " 0\n",
              " 1\n",
              " 0\n",
              " 0\n",
              " 0\n",
              " 0"
            ]
          },
          "metadata": {}
        }
      ],
      "execution_count": 8,
      "metadata": {
        "collapsed": true,
        "outputExpanded": false,
        "jupyter": {
          "source_hidden": false,
          "outputs_hidden": false
        },
        "nteract": {
          "transient": {
            "deleting": false
          }
        },
        "execution": {
          "iopub.status.busy": "2020-05-21T19:27:16.966Z",
          "iopub.execute_input": "2020-05-21T19:27:16.973Z",
          "iopub.status.idle": "2020-05-21T19:27:17.679Z"
        }
      }
    },
    {
      "cell_type": "markdown",
      "source": [
        "As you can see from this code block, we’re converting the last 29 columns of training_data to an Array called features and then converting the first column to a labels Array. Then, we call the build_forest function from the DecisionTree package, passing in the labels and features.\n"
      ],
      "metadata": {
        "nteract": {
          "transient": {
            "deleting": false
          }
        }
      }
    },
    {
      "cell_type": "markdown",
      "source": [
        "### Build Model"
      ],
      "metadata": {
        "nteract": {
          "transient": {
            "deleting": false
          }
        }
      }
    },
    {
      "cell_type": "code",
      "source": [
        "model = build_forest(labels, features)"
      ],
      "outputs": [
        {
          "output_type": "execute_result",
          "execution_count": 10,
          "data": {
            "text/plain": [
              "Ensemble of Decision Trees\n",
              "Trees:      10\n",
              "Avg Leaves: 79.8\n",
              "Avg Depth:  12.7"
            ]
          },
          "metadata": {}
        }
      ],
      "execution_count": 10,
      "metadata": {
        "collapsed": true,
        "outputExpanded": false,
        "jupyter": {
          "source_hidden": false,
          "outputs_hidden": false
        },
        "nteract": {
          "transient": {
            "deleting": false
          }
        },
        "execution": {
          "iopub.status.busy": "2020-05-21T19:27:38.859Z",
          "iopub.execute_input": "2020-05-21T19:27:38.862Z",
          "iopub.status.idle": "2020-05-21T19:27:38.894Z"
        }
      }
    },
    {
      "cell_type": "markdown",
      "source": [
        "The output from build_forest informs us of the primary characteristics of our random forest, which we will put to the test in the next step!"
      ],
      "metadata": {
        "nteract": {
          "transient": {
            "deleting": false
          }
        }
      }
    },
    {
      "cell_type": "markdown",
      "source": [
        "### Test Model\n",
        "\n",
        "One of the nice things about this dataset is that the test data is already separated out into its own dataset.\n",
        "Let’s pull in our test dataset using the same functions that we used to pull in the training data."
      ],
      "metadata": {
        "nteract": {
          "transient": {
            "deleting": false
          }
        }
      }
    },
    {
      "cell_type": "code",
      "source": [
        "test = DataFrame(XLSX.readtable(\"test.xlsx\",\"Sheet1\")...)\n",
        "select!(test,r\"Attrition\",:)"
      ],
      "outputs": [
        {
          "output_type": "execute_result",
          "execution_count": 11,
          "data": {
            "text/plain": [
              "622×29 DataFrame. Omitted printing of 24 columns\n",
              "│ Row │ Attrition │ Age │ DailyRate │ DistanceFromHome │ Education │\n",
              "│     │ \u001b[90mAny\u001b[39m       │ \u001b[90mAny\u001b[39m │ \u001b[90mAny\u001b[39m       │ \u001b[90mAny\u001b[39m              │ \u001b[90mAny\u001b[39m       │\n",
              "├─────┼───────────┼─────┼───────────┼──────────────────┼───────────┤\n",
              "│ 1   │ 0         │ 35  │ 636       │ 4                │ 4         │\n",
              "│ 2   │ 1         │ 43  │ 1372      │ 9                │ 3         │\n",
              "│ 3   │ 0         │ 32  │ 862       │ 2                │ 1         │\n",
              "│ 4   │ 0         │ 56  │ 718       │ 4                │ 4         │\n",
              "│ 5   │ 0         │ 29  │ 1401      │ 6                │ 1         │\n",
              "│ 6   │ 0         │ 19  │ 645       │ 9                │ 2         │\n",
              "│ 7   │ 0         │ 45  │ 1457      │ 7                │ 3         │\n",
              "│ 8   │ 0         │ 37  │ 977       │ 1                │ 3         │\n",
              "│ 9   │ 0         │ 20  │ 805       │ 3                │ 3         │\n",
              "│ 10  │ 1         │ 44  │ 1097      │ 10               │ 4         │\n",
              "⋮\n",
              "│ 612 │ 0         │ 29  │ 1378      │ 13               │ 2         │\n",
              "│ 613 │ 0         │ 29  │ 468       │ 28               │ 4         │\n",
              "│ 614 │ 1         │ 50  │ 410       │ 28               │ 3         │\n",
              "│ 615 │ 0         │ 39  │ 722       │ 24               │ 1         │\n",
              "│ 616 │ 0         │ 31  │ 325       │ 5                │ 3         │\n",
              "│ 617 │ 0         │ 26  │ 1167      │ 5                │ 3         │\n",
              "│ 618 │ 0         │ 36  │ 884       │ 23               │ 2         │\n",
              "│ 619 │ 0         │ 39  │ 613       │ 6                │ 1         │\n",
              "│ 620 │ 0         │ 27  │ 155       │ 4                │ 3         │\n",
              "│ 621 │ 0         │ 49  │ 1023      │ 2                │ 3         │\n",
              "│ 622 │ 0         │ 34  │ 628       │ 8                │ 3         │"
            ],
            "text/html": [
              "<table class=\"data-frame\"><thead><tr><th></th><th>Attrition</th><th>Age</th><th>DailyRate</th><th>DistanceFromHome</th><th>Education</th><th>EmployeeCount</th><th>EmployeeNumber</th></tr><tr><th></th><th>Any</th><th>Any</th><th>Any</th><th>Any</th><th>Any</th><th>Any</th><th>Any</th></tr></thead><tbody><p>622 rows × 29 columns (omitted printing of 22 columns)</p><tr><th>1</th><td>0</td><td>35</td><td>636</td><td>4</td><td>4</td><td>1</td><td>1185</td></tr><tr><th>2</th><td>1</td><td>43</td><td>1372</td><td>9</td><td>3</td><td>1</td><td>1188</td></tr><tr><th>3</th><td>0</td><td>32</td><td>862</td><td>2</td><td>1</td><td>1</td><td>1190</td></tr><tr><th>4</th><td>0</td><td>56</td><td>718</td><td>4</td><td>4</td><td>1</td><td>1191</td></tr><tr><th>5</th><td>0</td><td>29</td><td>1401</td><td>6</td><td>1</td><td>1</td><td>1192</td></tr><tr><th>6</th><td>0</td><td>19</td><td>645</td><td>9</td><td>2</td><td>1</td><td>1193</td></tr><tr><th>7</th><td>0</td><td>45</td><td>1457</td><td>7</td><td>3</td><td>1</td><td>1195</td></tr><tr><th>8</th><td>0</td><td>37</td><td>977</td><td>1</td><td>3</td><td>1</td><td>1196</td></tr><tr><th>9</th><td>0</td><td>20</td><td>805</td><td>3</td><td>3</td><td>1</td><td>1198</td></tr><tr><th>10</th><td>1</td><td>44</td><td>1097</td><td>10</td><td>4</td><td>1</td><td>1200</td></tr><tr><th>11</th><td>0</td><td>53</td><td>1223</td><td>7</td><td>2</td><td>1</td><td>1201</td></tr><tr><th>12</th><td>0</td><td>29</td><td>942</td><td>15</td><td>1</td><td>1</td><td>1202</td></tr><tr><th>13</th><td>1</td><td>22</td><td>1256</td><td>3</td><td>4</td><td>1</td><td>1203</td></tr><tr><th>14</th><td>0</td><td>46</td><td>1402</td><td>2</td><td>3</td><td>1</td><td>1204</td></tr><tr><th>15</th><td>0</td><td>44</td><td>111</td><td>17</td><td>3</td><td>1</td><td>1206</td></tr><tr><th>16</th><td>0</td><td>33</td><td>147</td><td>2</td><td>3</td><td>1</td><td>1207</td></tr><tr><th>17</th><td>1</td><td>41</td><td>906</td><td>5</td><td>2</td><td>1</td><td>1210</td></tr><tr><th>18</th><td>0</td><td>30</td><td>1329</td><td>29</td><td>4</td><td>1</td><td>1211</td></tr><tr><th>19</th><td>0</td><td>40</td><td>1184</td><td>2</td><td>4</td><td>1</td><td>1212</td></tr><tr><th>20</th><td>0</td><td>50</td><td>1421</td><td>2</td><td>3</td><td>1</td><td>1215</td></tr><tr><th>21</th><td>0</td><td>28</td><td>1179</td><td>19</td><td>4</td><td>1</td><td>1216</td></tr><tr><th>22</th><td>0</td><td>46</td><td>1450</td><td>15</td><td>2</td><td>1</td><td>1217</td></tr><tr><th>23</th><td>0</td><td>35</td><td>1361</td><td>17</td><td>4</td><td>1</td><td>1218</td></tr><tr><th>24</th><td>1</td><td>24</td><td>984</td><td>17</td><td>2</td><td>1</td><td>1219</td></tr><tr><th>25</th><td>0</td><td>33</td><td>1146</td><td>25</td><td>3</td><td>1</td><td>1220</td></tr><tr><th>26</th><td>0</td><td>36</td><td>917</td><td>6</td><td>4</td><td>1</td><td>1221</td></tr><tr><th>27</th><td>0</td><td>30</td><td>853</td><td>7</td><td>4</td><td>1</td><td>1224</td></tr><tr><th>28</th><td>0</td><td>44</td><td>200</td><td>29</td><td>4</td><td>1</td><td>1225</td></tr><tr><th>29</th><td>0</td><td>20</td><td>654</td><td>21</td><td>3</td><td>1</td><td>1226</td></tr><tr><th>30</th><td>0</td><td>46</td><td>150</td><td>2</td><td>4</td><td>1</td><td>1228</td></tr><tr><th>&vellip;</th><td>&vellip;</td><td>&vellip;</td><td>&vellip;</td><td>&vellip;</td><td>&vellip;</td><td>&vellip;</td><td>&vellip;</td></tr></tbody></table>"
            ],
            "text/latex": [
              "\\begin{tabular}{r|cccccccc}\n",
              "\t& Attrition & Age & DailyRate & DistanceFromHome & Education & EmployeeCount & EmployeeNumber & \\\\\n",
              "\t\\hline\n",
              "\t& Any & Any & Any & Any & Any & Any & Any & \\\\\n",
              "\t\\hline\n",
              "\t1 & 0 & 35 & 636 & 4 & 4 & 1 & 1185 & $\\dots$ \\\\\n",
              "\t2 & 1 & 43 & 1372 & 9 & 3 & 1 & 1188 & $\\dots$ \\\\\n",
              "\t3 & 0 & 32 & 862 & 2 & 1 & 1 & 1190 & $\\dots$ \\\\\n",
              "\t4 & 0 & 56 & 718 & 4 & 4 & 1 & 1191 & $\\dots$ \\\\\n",
              "\t5 & 0 & 29 & 1401 & 6 & 1 & 1 & 1192 & $\\dots$ \\\\\n",
              "\t6 & 0 & 19 & 645 & 9 & 2 & 1 & 1193 & $\\dots$ \\\\\n",
              "\t7 & 0 & 45 & 1457 & 7 & 3 & 1 & 1195 & $\\dots$ \\\\\n",
              "\t8 & 0 & 37 & 977 & 1 & 3 & 1 & 1196 & $\\dots$ \\\\\n",
              "\t9 & 0 & 20 & 805 & 3 & 3 & 1 & 1198 & $\\dots$ \\\\\n",
              "\t10 & 1 & 44 & 1097 & 10 & 4 & 1 & 1200 & $\\dots$ \\\\\n",
              "\t11 & 0 & 53 & 1223 & 7 & 2 & 1 & 1201 & $\\dots$ \\\\\n",
              "\t12 & 0 & 29 & 942 & 15 & 1 & 1 & 1202 & $\\dots$ \\\\\n",
              "\t13 & 1 & 22 & 1256 & 3 & 4 & 1 & 1203 & $\\dots$ \\\\\n",
              "\t14 & 0 & 46 & 1402 & 2 & 3 & 1 & 1204 & $\\dots$ \\\\\n",
              "\t15 & 0 & 44 & 111 & 17 & 3 & 1 & 1206 & $\\dots$ \\\\\n",
              "\t16 & 0 & 33 & 147 & 2 & 3 & 1 & 1207 & $\\dots$ \\\\\n",
              "\t17 & 1 & 41 & 906 & 5 & 2 & 1 & 1210 & $\\dots$ \\\\\n",
              "\t18 & 0 & 30 & 1329 & 29 & 4 & 1 & 1211 & $\\dots$ \\\\\n",
              "\t19 & 0 & 40 & 1184 & 2 & 4 & 1 & 1212 & $\\dots$ \\\\\n",
              "\t20 & 0 & 50 & 1421 & 2 & 3 & 1 & 1215 & $\\dots$ \\\\\n",
              "\t21 & 0 & 28 & 1179 & 19 & 4 & 1 & 1216 & $\\dots$ \\\\\n",
              "\t22 & 0 & 46 & 1450 & 15 & 2 & 1 & 1217 & $\\dots$ \\\\\n",
              "\t23 & 0 & 35 & 1361 & 17 & 4 & 1 & 1218 & $\\dots$ \\\\\n",
              "\t24 & 1 & 24 & 984 & 17 & 2 & 1 & 1219 & $\\dots$ \\\\\n",
              "\t25 & 0 & 33 & 1146 & 25 & 3 & 1 & 1220 & $\\dots$ \\\\\n",
              "\t26 & 0 & 36 & 917 & 6 & 4 & 1 & 1221 & $\\dots$ \\\\\n",
              "\t27 & 0 & 30 & 853 & 7 & 4 & 1 & 1224 & $\\dots$ \\\\\n",
              "\t28 & 0 & 44 & 200 & 29 & 4 & 1 & 1225 & $\\dots$ \\\\\n",
              "\t29 & 0 & 20 & 654 & 21 & 3 & 1 & 1226 & $\\dots$ \\\\\n",
              "\t30 & 0 & 46 & 150 & 2 & 4 & 1 & 1228 & $\\dots$ \\\\\n",
              "\t$\\dots$ & $\\dots$ & $\\dots$ & $\\dots$ & $\\dots$ & $\\dots$ & $\\dots$ & $\\dots$ &  \\\\\n",
              "\\end{tabular}\n"
            ]
          },
          "metadata": {}
        }
      ],
      "execution_count": 11,
      "metadata": {
        "collapsed": true,
        "outputExpanded": false,
        "jupyter": {
          "source_hidden": false,
          "outputs_hidden": false
        },
        "nteract": {
          "transient": {
            "deleting": false
          }
        },
        "execution": {
          "iopub.status.busy": "2020-05-21T19:28:32.793Z",
          "iopub.execute_input": "2020-05-21T19:28:32.797Z",
          "iopub.status.idle": "2020-05-21T19:28:33.956Z"
        }
      }
    },
    {
      "cell_type": "markdown",
      "source": [
        "Now that we have our test dataset, we need to again create two Arrays, one for our features and another for our labels, and then make use of the apply_forest function to obtain our predictions. Since I used dropmissing for our training data, I did the same for our test data."
      ],
      "metadata": {
        "nteract": {
          "transient": {
            "deleting": false
          }
        }
      }
    },
    {
      "cell_type": "code",
      "source": [
        "features_test = convert(Array, dropmissing(test)[2:29])"
      ],
      "outputs": [
        {
          "output_type": "stream",
          "name": "stderr",
          "text": [
            "┌ Warning: `getindex(df::DataFrame, col_inds::Union{AbstractVector, Regex, Not})` is deprecated, use `df[:, col_inds]` instead.\n",
            "│   caller = top-level scope at In[12]:1\n",
            "└ @ Core In[12]:1\n"
          ]
        },
        {
          "output_type": "execute_result",
          "execution_count": 12,
          "data": {
            "text/plain": [
              "622×28 Array{Any,2}:\n",
              " 35   636   4  4  1  1185  4  0  47  …  3  2  80  1   2  2  4   2  2  2   2\n",
              " 43  1372   9  3  1  1188  1  1  85     3  2  80  0   7  2  2   4  3  1   3\n",
              " 32   862   2  1  1  1190  3  1  76     3  3  80  3   1  3  3   1  0  0   0\n",
              " 56   718   4  4  1  1191  4  1  92     3  4  80  1  28  2  3   5  2  4   2\n",
              " 29  1401   6  1  1  1192  2  1  54     3  1  80  1  10  5  3  10  8  0   8\n",
              " 19   645   9  2  1  1193  3  0  54  …  4  3  80  0   1  4  3   1  1  0   0\n",
              " 45  1457   7  3  1  1195  1  1  83     3  3  80  1   7  2  2   3  2  0   2\n",
              " 37   977   1  3  1  1196  4  1  56     3  2  80  1  14  2  2  14  8  3  11\n",
              " 20   805   3  3  1  1198  1  0  87     3  1  80  0   2  2  2   2  2  1   2\n",
              " 44  1097  10  4  1  1200  3  0  96     3  3  80  0   6  4  3   6  4  0   2\n",
              " 53  1223   7  2  1  1201  4  1  50  …  3  2  80  1  26  6  3   7  7  4   7\n",
              " 29   942  15  1  1  1202  2  1  69     3  1  80  1   6  2  2   5  4  1   3\n",
              " 22  1256   3  4  1  1203  3  0  48     3  2  80  1   1  5  3   0  0  0   0\n",
              "  ⋮                     ⋮            ⋱            ⋮                ⋮     \n",
              " 35   287   1  4  1  2052  3  1  62  …  3  4  80  1   4  5  3   4  3  1   1\n",
              " 29  1378  13  2  1  2053  4  0  46     3  1  80  1  10  2  3   4  3  0   3\n",
              " 29   468  28  4  1  2054  4  1  73     3  2  80  0   5  3  1   5  4  0   4\n",
              " 50   410  28  3  1  2055  4  0  39     3  2  80  1  20  3  3   3  2  2   0\n",
              " 39   722  24  1  1  2056  2  1  60     3  1  80  1  21  2  2  20  9  9   6\n",
              " 31   325   5  3  1  2057  2  0  74  …  3  2  80  0  10  2  3   9  4  1   7\n",
              " 26  1167   5  3  1  2060  4  1  30     3  4  80  0   5  2  3   4  2  0   0\n",
              " 36   884  23  2  1  2061  3  0  41     3  3  80  1  17  3  3   5  2  0   3\n",
              " 39   613   6  1  1  2062  4  0  42     3  1  80  1   9  5  3   7  7  1   7\n",
              " 27   155   4  3  1  2064  2  0  87     4  2  80  1   6  0  3   6  2  0   3\n",
              " 49  1023   2  3  1  2065  4  0  63  …  3  4  80  0  17  3  2   9  6  0   8\n",
              " 34   628   8  3  1  2068  2  0  82     3  1  80  0   6  3  4   4  3  1   2"
            ]
          },
          "metadata": {}
        }
      ],
      "execution_count": 12,
      "metadata": {
        "collapsed": true,
        "outputExpanded": false,
        "jupyter": {
          "source_hidden": false,
          "outputs_hidden": false
        },
        "nteract": {
          "transient": {
            "deleting": false
          }
        },
        "execution": {
          "iopub.status.busy": "2020-05-21T19:29:44.091Z",
          "iopub.execute_input": "2020-05-21T19:29:44.095Z",
          "iopub.status.idle": "2020-05-21T19:29:44.107Z"
        }
      }
    },
    {
      "cell_type": "code",
      "source": [
        "labels_test = convert(Array, dropmissing(test)[1])"
      ],
      "outputs": [
        {
          "output_type": "stream",
          "name": "stderr",
          "text": [
            "┌ Warning: `getindex(df::DataFrame, col_ind::ColumnIndex)` is deprecated, use `df[!, col_ind]` instead.\n",
            "│   caller = top-level scope at In[13]:1\n",
            "└ @ Core In[13]:1\n"
          ]
        },
        {
          "output_type": "execute_result",
          "execution_count": 13,
          "data": {
            "text/plain": [
              "622-element Array{Any,1}:\n",
              " 0\n",
              " 1\n",
              " 0\n",
              " 0\n",
              " 0\n",
              " 0\n",
              " 0\n",
              " 0\n",
              " 0\n",
              " 1\n",
              " 0\n",
              " 0\n",
              " 1\n",
              " ⋮\n",
              " 0\n",
              " 0\n",
              " 0\n",
              " 1\n",
              " 0\n",
              " 0\n",
              " 0\n",
              " 0\n",
              " 0\n",
              " 0\n",
              " 0\n",
              " 0"
            ]
          },
          "metadata": {}
        }
      ],
      "execution_count": 13,
      "metadata": {
        "collapsed": true,
        "outputExpanded": false,
        "jupyter": {
          "source_hidden": false,
          "outputs_hidden": false
        },
        "nteract": {
          "transient": {
            "deleting": false
          }
        },
        "execution": {
          "iopub.status.busy": "2020-05-21T19:30:06.548Z",
          "iopub.execute_input": "2020-05-21T19:30:06.561Z",
          "iopub.status.idle": "2020-05-21T19:30:06.570Z"
        }
      }
    },
    {
      "cell_type": "markdown",
      "source": [
        "After that, we can construct an Array of predictions with the apply_forest function. We do this by making use of Julia’s array comprehension feature. We define an Array predictions and construct it by looping through every row of our features_test Array (a two-dimensional Array), grabbing all of the columns for the given row, and passing them (along with our model from the previous step) to apply_forest."
      ],
      "metadata": {
        "nteract": {
          "transient": {
            "deleting": false
          }
        }
      }
    },
    {
      "cell_type": "code",
      "source": [
        "predictions = [apply_forest(model, features_test[i, :]) for i = 1:size(features_test)[1]]"
      ],
      "outputs": [
        {
          "output_type": "execute_result",
          "execution_count": 15,
          "data": {
            "text/plain": [
              "622-element Array{Int64,1}:\n",
              " 0\n",
              " 0\n",
              " 0\n",
              " 0\n",
              " 0\n",
              " 1\n",
              " 0\n",
              " 0\n",
              " 0\n",
              " 0\n",
              " 0\n",
              " 0\n",
              " 1\n",
              " ⋮\n",
              " 0\n",
              " 0\n",
              " 1\n",
              " 0\n",
              " 0\n",
              " 0\n",
              " 1\n",
              " 0\n",
              " 0\n",
              " 0\n",
              " 0\n",
              " 0"
            ]
          },
          "metadata": {}
        }
      ],
      "execution_count": 15,
      "metadata": {
        "collapsed": true,
        "outputExpanded": false,
        "jupyter": {
          "source_hidden": false,
          "outputs_hidden": false
        },
        "nteract": {
          "transient": {
            "deleting": false
          }
        },
        "execution": {
          "iopub.status.busy": "2020-05-21T19:31:44.621Z",
          "iopub.execute_input": "2020-05-21T19:31:44.628Z",
          "iopub.status.idle": "2020-05-21T19:31:45.518Z"
        }
      }
    },
    {
      "cell_type": "markdown",
      "source": [
        "You can see from the output above that we now have an Array of predicted labels for our test features. To check how good of a job our model did, we’ll simply compute the percentage of correct answers as follows:"
      ],
      "metadata": {
        "nteract": {
          "transient": {
            "deleting": false
          }
        }
      }
    },
    {
      "cell_type": "code",
      "source": [
        "corrects = predictions .== labels_test"
      ],
      "outputs": [
        {
          "output_type": "execute_result",
          "execution_count": 16,
          "data": {
            "text/plain": [
              "622-element BitArray{1}:\n",
              " 1\n",
              " 0\n",
              " 1\n",
              " 1\n",
              " 1\n",
              " 0\n",
              " 1\n",
              " 1\n",
              " 1\n",
              " 0\n",
              " 1\n",
              " 1\n",
              " 1\n",
              " ⋮\n",
              " 1\n",
              " 1\n",
              " 0\n",
              " 0\n",
              " 1\n",
              " 1\n",
              " 0\n",
              " 1\n",
              " 1\n",
              " 1\n",
              " 1\n",
              " 1"
            ]
          },
          "metadata": {}
        }
      ],
      "execution_count": 16,
      "metadata": {
        "collapsed": true,
        "outputExpanded": false,
        "jupyter": {
          "source_hidden": false,
          "outputs_hidden": false
        },
        "nteract": {
          "transient": {
            "deleting": false
          }
        },
        "execution": {
          "iopub.status.busy": "2020-05-21T19:32:22.137Z",
          "iopub.execute_input": "2020-05-21T19:32:22.143Z",
          "iopub.status.idle": "2020-05-21T19:32:22.928Z"
        }
      }
    },
    {
      "cell_type": "markdown",
      "source": [
        "### OUTPUT"
      ],
      "metadata": {
        "nteract": {
          "transient": {
            "deleting": false
          }
        }
      }
    },
    {
      "cell_type": "code",
      "source": [
        "percent_correct = count(i -> i == true, corrects) / length(corrects)"
      ],
      "outputs": [
        {
          "output_type": "execute_result",
          "execution_count": 17,
          "data": {
            "text/plain": [
              "0.8472668810289389"
            ]
          },
          "metadata": {}
        }
      ],
      "execution_count": 17,
      "metadata": {
        "collapsed": true,
        "outputExpanded": false,
        "jupyter": {
          "source_hidden": false,
          "outputs_hidden": false
        },
        "nteract": {
          "transient": {
            "deleting": false
          }
        },
        "execution": {
          "iopub.status.busy": "2020-05-21T19:32:37.027Z",
          "iopub.execute_input": "2020-05-21T19:32:37.033Z",
          "iopub.status.idle": "2020-05-21T19:32:37.315Z"
        }
      }
    },
    {
      "cell_type": "markdown",
      "source": [
        "n the code above, we check whether or not each item in predictions is the same as its corresponding item in labels_test_formatted by broadcasting the == equality operator via dot syntax. This results in the creation of a BitArray(this is not a new cryptocurrency), which we then use to compute the percentage of correct predictions. The latter part is achieved by using the count function on the corrects BitArray, passing to it an iterator that checks whether or not i == true. It then returns the number of elements that passed the test, which we divide by the length of the BitArray. On this run you can see that we achieved 85% accuracy with just default settings!!"
      ],
      "metadata": {
        "nteract": {
          "transient": {
            "deleting": false
          }
        }
      }
    }
  ],
  "metadata": {
    "kernel_info": {
      "name": "julia-1.4"
    },
    "language_info": {
      "file_extension": ".jl",
      "name": "julia",
      "mimetype": "application/julia",
      "version": "1.4.1"
    },
    "kernelspec": {
      "argv": [
        "C:\\Users\\19198\\AppData\\Local\\Programs\\Julia\\Julia-1.4.1\\bin\\julia.exe",
        "-i",
        "--startup-file=yes",
        "--color=yes",
        "--project=@.",
        "C:\\Users\\19198\\.julia\\packages\\IJulia\\DrVMH\\src\\kernel.jl",
        "{connection_file}"
      ],
      "display_name": "Julia 1.4.1",
      "env": {},
      "interrupt_mode": "message",
      "language": "julia",
      "name": "julia-1.4"
    },
    "nteract": {
      "version": "0.23.1"
    }
  },
  "nbformat": 4,
  "nbformat_minor": 0
}